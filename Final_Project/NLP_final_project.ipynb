{
  "nbformat": 4,
  "nbformat_minor": 0,
  "metadata": {
    "colab": {
      "name": "NLP_final_project.ipynb",
      "provenance": [],
      "collapsed_sections": [
        "sgQ0_7N1jp6f",
        "9XfWnobRFDxa",
        "8xsMnyjv8Vdi",
        "UGWaEdY4WI_K",
        "9WwoGa1-KUNi",
        "hIKec4WNKwLs",
        "G0Ouci6eK4RJ"
      ]
    },
    "kernelspec": {
      "name": "python3",
      "display_name": "Python 3"
    },
    "accelerator": "GPU"
  },
  "cells": [
    {
      "cell_type": "markdown",
      "metadata": {
        "id": "j9lGrmvAz9-y"
      },
      "source": [
        "# Tweets Sentiment analyses on [sentiment140](https://www.kaggle.com/kazanova/sentiment140) dataset\r\n",
        "\r\n",
        "* [link](https://drive.google.com/file/d/1JVWNB8RIqpCdEbO3S7_VOuQ9Xwnlg2oY/view?usp=sharing) to data file on Google Drive\r\n",
        "[link](https://drive.google.com/file/d/1LvKaUEX1cAqPSi3Y5iDU7-44O_zqfB3I/view?usp=sharing) to data zip file on Google Drive\r\n",
        "* [link](https://drive.google.com/file/d/1SuLUgRApiR0xr3aHbBYHqOv6m426u9DA/view?usp=sharing) to Linear classifier file on Google Drive\r\n",
        "[link](https://drive.google.com/drive/folders/1-UxZylzO3cpxitDWrl2UE7nVVT_E4jt-?usp=sharing) to BERT classifier folder on Google Drive\r\n",
        "* [link](https://drive.google.com/file/d/1-0TA272hcn0Cyed3l5mNUYdaFVv7AcSo/view?usp=sharing) to BERT classifier zip file on Google Drive"
      ]
    },
    {
      "cell_type": "markdown",
      "metadata": {
        "id": "ushSXk_Fli_A"
      },
      "source": [
        "## use below pattern to unzip folders"
      ]
    },
    {
      "cell_type": "code",
      "metadata": {
        "id": "uAjz7sLFlh2e"
      },
      "source": [
        "!unzip \"/content/drive/My Drive/desktop1.zip\" -d \"/content/drive/My Drive/\""
      ],
      "execution_count": null,
      "outputs": []
    },
    {
      "cell_type": "markdown",
      "metadata": {
        "id": "OnQHIrjWEu96"
      },
      "source": [
        "## Connect to Google Drive"
      ]
    },
    {
      "cell_type": "code",
      "metadata": {
        "colab": {
          "base_uri": "https://localhost:8080/"
        },
        "id": "fD68Nw5aE1pM",
        "outputId": "78553030-c240-4c27-af99-e74f64b44710"
      },
      "source": [
        "from google.colab import drive\r\n",
        "drive.mount('/content/drive')"
      ],
      "execution_count": null,
      "outputs": [
        {
          "output_type": "stream",
          "text": [
            "Mounted at /content/drive\n"
          ],
          "name": "stdout"
        }
      ]
    },
    {
      "cell_type": "markdown",
      "metadata": {
        "id": "sgQ0_7N1jp6f"
      },
      "source": [
        "## Installation\r\n"
      ]
    },
    {
      "cell_type": "code",
      "metadata": {
        "id": "-az1yy1Dhb-6",
        "colab": {
          "base_uri": "https://localhost:8080/"
        },
        "outputId": "aca86837-5788-4b94-9c58-407face053e1"
      },
      "source": [
        "import nltk\r\n",
        "nltk.download('stopwords')\r\n",
        "\r\n",
        "# Install pickle to save objects's files\r\n",
        "! pip install pickle5\r\n",
        "\r\n",
        "# Install sentence-transformer for vectorizing sentences (used for vectorizing tweets for Linear Classifier)\r\n",
        "!pip install -U sentence-transformers\r\n",
        "\r\n",
        "# To expand contractions\r\n",
        "!pip install contractions\r\n",
        "\r\n",
        "# A dependency of the preprocessing for BERT inputs\r\n",
        "!pip install -q tensorflow-text\r\n",
        "\r\n",
        "# To use adamW optimizer\r\n",
        "!pip install -q tf-models-official"
      ],
      "execution_count": null,
      "outputs": [
        {
          "output_type": "stream",
          "text": [
            "[nltk_data] Downloading package stopwords to /root/nltk_data...\n",
            "[nltk_data]   Unzipping corpora/stopwords.zip.\n",
            "Collecting pickle5\n",
            "\u001b[?25l  Downloading https://files.pythonhosted.org/packages/f7/4c/5c4dd0462c8d3a6bc4af500a6af240763c2ebd1efdc736fc2c946d44b70a/pickle5-0.0.11.tar.gz (132kB)\n",
            "\u001b[K     |████████████████████████████████| 133kB 6.7MB/s \n",
            "\u001b[?25hBuilding wheels for collected packages: pickle5\n",
            "  Building wheel for pickle5 (setup.py) ... \u001b[?25l\u001b[?25hdone\n",
            "  Created wheel for pickle5: filename=pickle5-0.0.11-cp36-cp36m-linux_x86_64.whl size=218623 sha256=b33e56534dcdee224e3668ae892de18ee4a7304e30974ae8366ed473ade1c68c\n",
            "  Stored in directory: /root/.cache/pip/wheels/a6/90/95/f889ca4aa8b0e0c7f21c8470b6f5d6032f0390a3a141a9a3bd\n",
            "Successfully built pickle5\n",
            "Installing collected packages: pickle5\n",
            "Successfully installed pickle5-0.0.11\n",
            "Collecting sentence-transformers\n",
            "\u001b[?25l  Downloading https://files.pythonhosted.org/packages/6a/e2/84d6acfcee2d83164149778a33b6bdd1a74e1bcb59b2b2cd1b861359b339/sentence-transformers-0.4.1.2.tar.gz (64kB)\n",
            "\u001b[K     |████████████████████████████████| 71kB 6.0MB/s \n",
            "\u001b[?25hCollecting transformers<5.0.0,>=3.1.0\n",
            "\u001b[?25l  Downloading https://files.pythonhosted.org/packages/88/b1/41130a228dd656a1a31ba281598a968320283f48d42782845f6ba567f00b/transformers-4.2.2-py3-none-any.whl (1.8MB)\n",
            "\u001b[K     |████████████████████████████████| 1.8MB 11.2MB/s \n",
            "\u001b[?25hRequirement already satisfied, skipping upgrade: tqdm in /usr/local/lib/python3.6/dist-packages (from sentence-transformers) (4.41.1)\n",
            "Requirement already satisfied, skipping upgrade: torch>=1.6.0 in /usr/local/lib/python3.6/dist-packages (from sentence-transformers) (1.7.0+cu101)\n",
            "Requirement already satisfied, skipping upgrade: numpy in /usr/local/lib/python3.6/dist-packages (from sentence-transformers) (1.19.5)\n",
            "Requirement already satisfied, skipping upgrade: scikit-learn in /usr/local/lib/python3.6/dist-packages (from sentence-transformers) (0.22.2.post1)\n",
            "Requirement already satisfied, skipping upgrade: scipy in /usr/local/lib/python3.6/dist-packages (from sentence-transformers) (1.4.1)\n",
            "Requirement already satisfied, skipping upgrade: nltk in /usr/local/lib/python3.6/dist-packages (from sentence-transformers) (3.2.5)\n",
            "Collecting sentencepiece\n",
            "\u001b[?25l  Downloading https://files.pythonhosted.org/packages/14/67/e42bd1181472c95c8cda79305df848264f2a7f62740995a46945d9797b67/sentencepiece-0.1.95-cp36-cp36m-manylinux2014_x86_64.whl (1.2MB)\n",
            "\u001b[K     |████████████████████████████████| 1.2MB 51.5MB/s \n",
            "\u001b[?25hRequirement already satisfied, skipping upgrade: filelock in /usr/local/lib/python3.6/dist-packages (from transformers<5.0.0,>=3.1.0->sentence-transformers) (3.0.12)\n",
            "Requirement already satisfied, skipping upgrade: importlib-metadata; python_version < \"3.8\" in /usr/local/lib/python3.6/dist-packages (from transformers<5.0.0,>=3.1.0->sentence-transformers) (3.4.0)\n",
            "Requirement already satisfied, skipping upgrade: packaging in /usr/local/lib/python3.6/dist-packages (from transformers<5.0.0,>=3.1.0->sentence-transformers) (20.8)\n",
            "Collecting tokenizers==0.9.4\n",
            "\u001b[?25l  Downloading https://files.pythonhosted.org/packages/0f/1c/e789a8b12e28be5bc1ce2156cf87cb522b379be9cadc7ad8091a4cc107c4/tokenizers-0.9.4-cp36-cp36m-manylinux2010_x86_64.whl (2.9MB)\n",
            "\u001b[K     |████████████████████████████████| 2.9MB 51.0MB/s \n",
            "\u001b[?25hRequirement already satisfied, skipping upgrade: regex!=2019.12.17 in /usr/local/lib/python3.6/dist-packages (from transformers<5.0.0,>=3.1.0->sentence-transformers) (2019.12.20)\n",
            "Collecting sacremoses\n",
            "\u001b[?25l  Downloading https://files.pythonhosted.org/packages/7d/34/09d19aff26edcc8eb2a01bed8e98f13a1537005d31e95233fd48216eed10/sacremoses-0.0.43.tar.gz (883kB)\n",
            "\u001b[K     |████████████████████████████████| 890kB 47.8MB/s \n",
            "\u001b[?25hRequirement already satisfied, skipping upgrade: requests in /usr/local/lib/python3.6/dist-packages (from transformers<5.0.0,>=3.1.0->sentence-transformers) (2.23.0)\n",
            "Requirement already satisfied, skipping upgrade: dataclasses; python_version < \"3.7\" in /usr/local/lib/python3.6/dist-packages (from transformers<5.0.0,>=3.1.0->sentence-transformers) (0.8)\n",
            "Requirement already satisfied, skipping upgrade: future in /usr/local/lib/python3.6/dist-packages (from torch>=1.6.0->sentence-transformers) (0.16.0)\n",
            "Requirement already satisfied, skipping upgrade: typing-extensions in /usr/local/lib/python3.6/dist-packages (from torch>=1.6.0->sentence-transformers) (3.7.4.3)\n",
            "Requirement already satisfied, skipping upgrade: joblib>=0.11 in /usr/local/lib/python3.6/dist-packages (from scikit-learn->sentence-transformers) (1.0.0)\n",
            "Requirement already satisfied, skipping upgrade: six in /usr/local/lib/python3.6/dist-packages (from nltk->sentence-transformers) (1.15.0)\n",
            "Requirement already satisfied, skipping upgrade: zipp>=0.5 in /usr/local/lib/python3.6/dist-packages (from importlib-metadata; python_version < \"3.8\"->transformers<5.0.0,>=3.1.0->sentence-transformers) (3.4.0)\n",
            "Requirement already satisfied, skipping upgrade: pyparsing>=2.0.2 in /usr/local/lib/python3.6/dist-packages (from packaging->transformers<5.0.0,>=3.1.0->sentence-transformers) (2.4.7)\n",
            "Requirement already satisfied, skipping upgrade: click in /usr/local/lib/python3.6/dist-packages (from sacremoses->transformers<5.0.0,>=3.1.0->sentence-transformers) (7.1.2)\n",
            "Requirement already satisfied, skipping upgrade: certifi>=2017.4.17 in /usr/local/lib/python3.6/dist-packages (from requests->transformers<5.0.0,>=3.1.0->sentence-transformers) (2020.12.5)\n",
            "Requirement already satisfied, skipping upgrade: idna<3,>=2.5 in /usr/local/lib/python3.6/dist-packages (from requests->transformers<5.0.0,>=3.1.0->sentence-transformers) (2.10)\n",
            "Requirement already satisfied, skipping upgrade: chardet<4,>=3.0.2 in /usr/local/lib/python3.6/dist-packages (from requests->transformers<5.0.0,>=3.1.0->sentence-transformers) (3.0.4)\n",
            "Requirement already satisfied, skipping upgrade: urllib3!=1.25.0,!=1.25.1,<1.26,>=1.21.1 in /usr/local/lib/python3.6/dist-packages (from requests->transformers<5.0.0,>=3.1.0->sentence-transformers) (1.24.3)\n",
            "Building wheels for collected packages: sentence-transformers, sacremoses\n",
            "  Building wheel for sentence-transformers (setup.py) ... \u001b[?25l\u001b[?25hdone\n",
            "  Created wheel for sentence-transformers: filename=sentence_transformers-0.4.1.2-cp36-none-any.whl size=103068 sha256=47a131b8cdb9e1d3fad2a1a81f0adc33cbf9b3bc77dcbee3c86831af186aed4e\n",
            "  Stored in directory: /root/.cache/pip/wheels/3d/33/d1/5703dd56199c09d4a1b41e0c07fb4e7765a84d787cbdc48ac3\n",
            "  Building wheel for sacremoses (setup.py) ... \u001b[?25l\u001b[?25hdone\n",
            "  Created wheel for sacremoses: filename=sacremoses-0.0.43-cp36-none-any.whl size=893261 sha256=563e5ed0c19f9119d94c6bcdf1366e50d50bc5a3eb033865da1754f6cb6aea90\n",
            "  Stored in directory: /root/.cache/pip/wheels/29/3c/fd/7ce5c3f0666dab31a50123635e6fb5e19ceb42ce38d4e58f45\n",
            "Successfully built sentence-transformers sacremoses\n",
            "Installing collected packages: tokenizers, sacremoses, transformers, sentencepiece, sentence-transformers\n",
            "Successfully installed sacremoses-0.0.43 sentence-transformers-0.4.1.2 sentencepiece-0.1.95 tokenizers-0.9.4 transformers-4.2.2\n",
            "Collecting contractions\n",
            "  Downloading https://files.pythonhosted.org/packages/4a/5f/91102df95715fdda07f56a7eba2baae983e2ae16a080eb52d79e08ec6259/contractions-0.0.45-py2.py3-none-any.whl\n",
            "Collecting textsearch\n",
            "  Downloading https://files.pythonhosted.org/packages/42/a8/03407021f9555043de5492a2bd7a35c56cc03c2510092b5ec018cae1bbf1/textsearch-0.0.17-py2.py3-none-any.whl\n",
            "Collecting Unidecode\n",
            "\u001b[?25l  Downloading https://files.pythonhosted.org/packages/74/65/91eab655041e9e92f948cb7302e54962035762ce7b518272ed9d6b269e93/Unidecode-1.1.2-py2.py3-none-any.whl (239kB)\n",
            "\u001b[K     |████████████████████████████████| 245kB 7.0MB/s \n",
            "\u001b[?25hCollecting pyahocorasick\n",
            "\u001b[?25l  Downloading https://files.pythonhosted.org/packages/4a/92/b3c70b8cf2b76f7e3e8b7243d6f06f7cb3bab6ada237b1bce57604c5c519/pyahocorasick-1.4.1.tar.gz (321kB)\n",
            "\u001b[K     |████████████████████████████████| 327kB 12.1MB/s \n",
            "\u001b[?25hBuilding wheels for collected packages: pyahocorasick\n",
            "  Building wheel for pyahocorasick (setup.py) ... \u001b[?25l\u001b[?25hdone\n",
            "  Created wheel for pyahocorasick: filename=pyahocorasick-1.4.1-cp36-cp36m-linux_x86_64.whl size=84333 sha256=8617f9cfc8adad9aa10d12d99215b750863f8b69cb668ee49ad0b16a56416ae3\n",
            "  Stored in directory: /root/.cache/pip/wheels/e4/ab/f7/cb39270df8f6126f3dd4c33d302357167086db460968cfc80c\n",
            "Successfully built pyahocorasick\n",
            "Installing collected packages: Unidecode, pyahocorasick, textsearch, contractions\n",
            "Successfully installed Unidecode-1.1.2 contractions-0.0.45 pyahocorasick-1.4.1 textsearch-0.0.17\n",
            "\u001b[K     |████████████████████████████████| 3.4MB 7.6MB/s \n",
            "\u001b[K     |████████████████████████████████| 1.1MB 8.4MB/s \n",
            "\u001b[K     |████████████████████████████████| 102kB 12.0MB/s \n",
            "\u001b[K     |████████████████████████████████| 645kB 22.7MB/s \n",
            "\u001b[K     |████████████████████████████████| 37.6MB 71kB/s \n",
            "\u001b[K     |████████████████████████████████| 358kB 49.7MB/s \n",
            "\u001b[K     |████████████████████████████████| 51kB 8.6MB/s \n",
            "\u001b[K     |████████████████████████████████| 174kB 54.0MB/s \n",
            "\u001b[?25h  Building wheel for py-cpuinfo (setup.py) ... \u001b[?25l\u001b[?25hdone\n",
            "  Building wheel for seqeval (setup.py) ... \u001b[?25l\u001b[?25hdone\n"
          ],
          "name": "stdout"
        }
      ]
    },
    {
      "cell_type": "markdown",
      "metadata": {
        "id": "DFR4VXkXpMHb"
      },
      "source": [
        "## Imports"
      ]
    },
    {
      "cell_type": "code",
      "metadata": {
        "id": "0anSr9zcpW-C"
      },
      "source": [
        "import pickle5 as pickle\r\n",
        "\r\n",
        "import re\r\n",
        "import string\r\n",
        "import contractions\r\n",
        "from nltk.corpus import stopwords\r\n",
        "\r\n",
        "import pandas as pd\r\n",
        "from sklearn.model_selection import train_test_split\r\n",
        "\r\n",
        "\r\n",
        "from sentence_transformers import SentenceTransformer\r\n",
        "from sklearn.linear_model import SGDClassifier\r\n",
        "from sklearn.metrics import classification_report, confusion_matrix\r\n",
        "\r\n",
        "import numpy as np\r\n",
        "import os\r\n",
        "import torch\r\n",
        "\r\n",
        "\r\n",
        "import shutil\r\n",
        "\r\n",
        "import tensorflow as tf\r\n",
        "import tensorflow_hub as hub\r\n",
        "import tensorflow_text as text\r\n",
        "from official.nlp import optimization  # to create AdamW optmizer\r\n",
        "import math"
      ],
      "execution_count": null,
      "outputs": []
    },
    {
      "cell_type": "markdown",
      "metadata": {
        "id": "9XfWnobRFDxa"
      },
      "source": [
        "## Constants "
      ]
    },
    {
      "cell_type": "code",
      "metadata": {
        "id": "chUFy1pbFG0m"
      },
      "source": [
        "# path to where raw datas are in\r\n",
        "data_path = 'drive/MyDrive/Colab Notebooks/NLP_final_project/data/'\r\n",
        "\r\n",
        "# path to where processed datas are in\r\n",
        "documents_path = 'drive/MyDrive/Colab Notebooks/NLP_final_project/documents/'\r\n",
        "\r\n",
        "csv_file_name = 'training.1600000.processed.noemoticon.csv'\r\n",
        "DATASET_COLUMNS = [\"target\", \"ids\", \"date\", \"flag\", \"user\", \"text\"]\r\n",
        "DATASET_ENCODING = \"ISO-8859-1\"\r\n",
        "\r\n",
        "\r\n",
        "\r\n",
        "# define below const to use it for BERT model \r\n",
        "# sum of TRAIN_SIZE and VAL_SIZE can't be greater than 1280000\r\n",
        "TRAIN_SIZE = 80000\r\n",
        "VAL_SIZE = 20000\r\n",
        "# TEST_SIZE cant be greater than 32000\r\n",
        "TEST_SIZE = 20000\r\n",
        "\r\n",
        "# where linear model is going to be (saved or loaded)\r\n",
        "linear_model_path = os.path.join(documents_path, 'linear_model.pickle')\r\n",
        "# where bert model is going to be (saved or loaded)\r\n",
        "transformer_model_path = os.path.join(documents_path, 'sentiment_bert_classifier')\r\n",
        "\r\n",
        "\r\n",
        "# while max len is 290, 1599514 data among 1600000 data's length is less or equal to 64\r\n",
        "# for training its 1279705 among 1280000 training data\r\n",
        "MAX_LEN = 64\r\n",
        "\r\n",
        "# use this model for vectorizing sentences in SentenceTransformer\r\n",
        "sentence_vectorizing_model = 'stsb-distilbert-base'\r\n",
        "\r\n",
        "# use this model among all expert bert model presented by tensorflow hub as it's\r\n",
        "# recommended for sentiment analysis\r\n",
        "bert_model_name = 'experts/bert/wiki_books/sst2'\r\n",
        "\r\n",
        "\r\n",
        "emoticon_string = r\"\"\"\r\n",
        "    (?:\r\n",
        "      [<>]?\r\n",
        "      [:;=8]                     # eyes\r\n",
        "      [\\-o\\*\\']?                 # optional nose\r\n",
        "      [\\)\\]\\(\\[dDpP/\\:\\}\\{@\\|\\\\] # mouth      \r\n",
        "      |\r\n",
        "      [\\)\\]\\(\\[dDpP/\\:\\}\\{@\\|\\\\] # mouth\r\n",
        "      [\\-o\\*\\']?                 # optional nose\r\n",
        "      [:;=8]                     # eyes\r\n",
        "      [<>]?\r\n",
        "    )\"\"\"\r\n",
        "\r\n",
        "# The components of the tokenizer:\r\n",
        "regex_strings = (\r\n",
        "    # Phone numbers:\r\n",
        "    r\"\"\"\r\n",
        "    (?:\r\n",
        "      (?:            # (international)\r\n",
        "        \\+?[01]\r\n",
        "        [\\-\\s.]*\r\n",
        "      )?            \r\n",
        "      (?:            # (area code)\r\n",
        "        [\\(]?\r\n",
        "        \\d{3}\r\n",
        "        [\\-\\s.\\)]*\r\n",
        "      )?    \r\n",
        "      \\d{3}          # exchange\r\n",
        "      [\\-\\s.]*   \r\n",
        "      \\d{4}          # base\r\n",
        "    )\"\"\"\r\n",
        "    ,\r\n",
        "    # Emoticons:\r\n",
        "    emoticon_string\r\n",
        "    ,\r\n",
        "    # HTML tags:\r\n",
        "    r\"\"\"<[^>]+>\"\"\"\r\n",
        "    ,\r\n",
        "    # Twitter username:\r\n",
        "    r\"\"\"(?:@[\\w_]+)\"\"\"\r\n",
        "    ,\r\n",
        "    # Twitter hashtags:\r\n",
        "    r\"\"\"(?:\\#+[\\w_]+[\\w\\'_\\-]*[\\w_]+)\"\"\"\r\n",
        "    ,\r\n",
        "    # Remaining word types:\r\n",
        "    r\"\"\"\r\n",
        "    (?:[a-z][a-z'\\-_]+[a-z])       # Words with apostrophes or dashes.\r\n",
        "    |\r\n",
        "    (?:[+\\-]?\\d+[,/.:-]\\d+[+\\-]?)  # Numbers, including fractions, decimals.\r\n",
        "    |\r\n",
        "    (?:[\\w_]+)                     # Words without apostrophes or dashes.\r\n",
        "    |\r\n",
        "    (?:\\.(?:\\s*\\.){1,})            # Ellipsis dots. \r\n",
        "    |\r\n",
        "    (?:\\S)                         # Everything else that isn't whitespace.\r\n",
        "    \"\"\"\r\n",
        ")\r\n",
        "\r\n",
        "# This is the core tokenizing regex:\r\n",
        "word_re = re.compile(r\"\"\"(%s)\"\"\" % \"|\".join(regex_strings), re.VERBOSE | re.I | re.UNICODE)\r\n",
        "\r\n",
        "# The emoticon string gets its own regex so that we can preserve case for them as needed:\r\n",
        "emoticon_re = re.compile(regex_strings[1], re.VERBOSE | re.I | re.UNICODE)\r\n",
        "\r\n",
        "# These are for regularizing HTML entities to Unicode:\r\n",
        "html_entity_digit_re = re.compile(r\"&#\\d+;\")\r\n",
        "html_entity_alpha_re = re.compile(r\"&\\w+;\")\r\n",
        "amp = \"&amp;\"\r\n",
        "\r\n",
        "# use below dictionaries to get chosen pretrained bert model and proper preprocessor for it \r\n",
        "\r\n",
        "map_name_to_handle = {\r\n",
        "    'bert_en_uncased_L-12_H-768_A-12':\r\n",
        "        'https://tfhub.dev/tensorflow/bert_en_uncased_L-12_H-768_A-12/3',\r\n",
        "    'bert_en_cased_L-12_H-768_A-12':\r\n",
        "        'https://tfhub.dev/tensorflow/bert_en_cased_L-12_H-768_A-12/3',\r\n",
        "    'bert_multi_cased_L-12_H-768_A-12':\r\n",
        "        'https://tfhub.dev/tensorflow/bert_multi_cased_L-12_H-768_A-12/3',\r\n",
        "    'small_bert/bert_en_uncased_L-2_H-128_A-2':\r\n",
        "        'https://tfhub.dev/tensorflow/small_bert/bert_en_uncased_L-2_H-128_A-2/1',\r\n",
        "    'small_bert/bert_en_uncased_L-2_H-256_A-4':\r\n",
        "        'https://tfhub.dev/tensorflow/small_bert/bert_en_uncased_L-2_H-256_A-4/1',\r\n",
        "    'small_bert/bert_en_uncased_L-2_H-512_A-8':\r\n",
        "        'https://tfhub.dev/tensorflow/small_bert/bert_en_uncased_L-2_H-512_A-8/1',\r\n",
        "    'small_bert/bert_en_uncased_L-2_H-768_A-12':\r\n",
        "        'https://tfhub.dev/tensorflow/small_bert/bert_en_uncased_L-2_H-768_A-12/1',\r\n",
        "    'small_bert/bert_en_uncased_L-4_H-128_A-2':\r\n",
        "        'https://tfhub.dev/tensorflow/small_bert/bert_en_uncased_L-4_H-128_A-2/1',\r\n",
        "    'small_bert/bert_en_uncased_L-4_H-256_A-4':\r\n",
        "        'https://tfhub.dev/tensorflow/small_bert/bert_en_uncased_L-4_H-256_A-4/1',\r\n",
        "    'small_bert/bert_en_uncased_L-4_H-512_A-8':\r\n",
        "        'https://tfhub.dev/tensorflow/small_bert/bert_en_uncased_L-4_H-512_A-8/1',\r\n",
        "    'small_bert/bert_en_uncased_L-4_H-768_A-12':\r\n",
        "        'https://tfhub.dev/tensorflow/small_bert/bert_en_uncased_L-4_H-768_A-12/1',\r\n",
        "    'small_bert/bert_en_uncased_L-6_H-128_A-2':\r\n",
        "        'https://tfhub.dev/tensorflow/small_bert/bert_en_uncased_L-6_H-128_A-2/1',\r\n",
        "    'small_bert/bert_en_uncased_L-6_H-256_A-4':\r\n",
        "        'https://tfhub.dev/tensorflow/small_bert/bert_en_uncased_L-6_H-256_A-4/1',\r\n",
        "    'small_bert/bert_en_uncased_L-6_H-512_A-8':\r\n",
        "        'https://tfhub.dev/tensorflow/small_bert/bert_en_uncased_L-6_H-512_A-8/1',\r\n",
        "    'small_bert/bert_en_uncased_L-6_H-768_A-12':\r\n",
        "        'https://tfhub.dev/tensorflow/small_bert/bert_en_uncased_L-6_H-768_A-12/1',\r\n",
        "    'small_bert/bert_en_uncased_L-8_H-128_A-2':\r\n",
        "        'https://tfhub.dev/tensorflow/small_bert/bert_en_uncased_L-8_H-128_A-2/1',\r\n",
        "    'small_bert/bert_en_uncased_L-8_H-256_A-4':\r\n",
        "        'https://tfhub.dev/tensorflow/small_bert/bert_en_uncased_L-8_H-256_A-4/1',\r\n",
        "    'small_bert/bert_en_uncased_L-8_H-512_A-8':\r\n",
        "        'https://tfhub.dev/tensorflow/small_bert/bert_en_uncased_L-8_H-512_A-8/1',\r\n",
        "    'small_bert/bert_en_uncased_L-8_H-768_A-12':\r\n",
        "        'https://tfhub.dev/tensorflow/small_bert/bert_en_uncased_L-8_H-768_A-12/1',\r\n",
        "    'small_bert/bert_en_uncased_L-10_H-128_A-2':\r\n",
        "        'https://tfhub.dev/tensorflow/small_bert/bert_en_uncased_L-10_H-128_A-2/1',\r\n",
        "    'small_bert/bert_en_uncased_L-10_H-256_A-4':\r\n",
        "        'https://tfhub.dev/tensorflow/small_bert/bert_en_uncased_L-10_H-256_A-4/1',\r\n",
        "    'small_bert/bert_en_uncased_L-10_H-512_A-8':\r\n",
        "        'https://tfhub.dev/tensorflow/small_bert/bert_en_uncased_L-10_H-512_A-8/1',\r\n",
        "    'small_bert/bert_en_uncased_L-10_H-768_A-12':\r\n",
        "        'https://tfhub.dev/tensorflow/small_bert/bert_en_uncased_L-10_H-768_A-12/1',\r\n",
        "    'small_bert/bert_en_uncased_L-12_H-128_A-2':\r\n",
        "        'https://tfhub.dev/tensorflow/small_bert/bert_en_uncased_L-12_H-128_A-2/1',\r\n",
        "    'small_bert/bert_en_uncased_L-12_H-256_A-4':\r\n",
        "        'https://tfhub.dev/tensorflow/small_bert/bert_en_uncased_L-12_H-256_A-4/1',\r\n",
        "    'small_bert/bert_en_uncased_L-12_H-512_A-8':\r\n",
        "        'https://tfhub.dev/tensorflow/small_bert/bert_en_uncased_L-12_H-512_A-8/1',\r\n",
        "    'small_bert/bert_en_uncased_L-12_H-768_A-12':\r\n",
        "        'https://tfhub.dev/tensorflow/small_bert/bert_en_uncased_L-12_H-768_A-12/1',\r\n",
        "    'albert_en_base':\r\n",
        "        'https://tfhub.dev/tensorflow/albert_en_base/2',\r\n",
        "    'electra_small':\r\n",
        "        'https://tfhub.dev/google/electra_small/2',\r\n",
        "    'electra_base':\r\n",
        "        'https://tfhub.dev/google/electra_base/2',\r\n",
        "    'experts_pubmed':\r\n",
        "        'https://tfhub.dev/google/experts/bert/pubmed/2',\r\n",
        "    'experts_wiki_books':\r\n",
        "        'https://tfhub.dev/google/experts/bert/wiki_books/2',\r\n",
        "    'talking-heads_base':\r\n",
        "        'https://tfhub.dev/tensorflow/talkheads_ggelu_bert_en_base/1',\r\n",
        "    'experts/bert/wiki_books/sst2':   #use this, as its recommended to use this one for sentiment analysis\r\n",
        "        'https://tfhub.dev/google/experts/bert/wiki_books/sst2/2',\r\n",
        "}\r\n",
        "\r\n",
        "map_model_to_preprocess = {\r\n",
        "    \r\n",
        "    'bert_en_uncased_L-12_H-768_A-12':\r\n",
        "        'https://tfhub.dev/tensorflow/bert_en_uncased_preprocess/3',\r\n",
        "    'bert_en_cased_L-12_H-768_A-12':\r\n",
        "        'https://tfhub.dev/tensorflow/bert_en_cased_preprocess/3',\r\n",
        "    'small_bert/bert_en_uncased_L-2_H-128_A-2':\r\n",
        "        'https://tfhub.dev/tensorflow/bert_en_uncased_preprocess/3',\r\n",
        "    'small_bert/bert_en_uncased_L-2_H-256_A-4':\r\n",
        "        'https://tfhub.dev/tensorflow/bert_en_uncased_preprocess/3',\r\n",
        "    'small_bert/bert_en_uncased_L-2_H-512_A-8':\r\n",
        "        'https://tfhub.dev/tensorflow/bert_en_uncased_preprocess/3',\r\n",
        "    'small_bert/bert_en_uncased_L-2_H-768_A-12':\r\n",
        "        'https://tfhub.dev/tensorflow/bert_en_uncased_preprocess/3',\r\n",
        "    'small_bert/bert_en_uncased_L-4_H-128_A-2':\r\n",
        "        'https://tfhub.dev/tensorflow/bert_en_uncased_preprocess/3',\r\n",
        "    'small_bert/bert_en_uncased_L-4_H-256_A-4':\r\n",
        "        'https://tfhub.dev/tensorflow/bert_en_uncased_preprocess/3',\r\n",
        "    'small_bert/bert_en_uncased_L-4_H-512_A-8':\r\n",
        "        'https://tfhub.dev/tensorflow/bert_en_uncased_preprocess/3',\r\n",
        "    'small_bert/bert_en_uncased_L-4_H-768_A-12':\r\n",
        "        'https://tfhub.dev/tensorflow/bert_en_uncased_preprocess/3',\r\n",
        "    'small_bert/bert_en_uncased_L-6_H-128_A-2':\r\n",
        "        'https://tfhub.dev/tensorflow/bert_en_uncased_preprocess/3',\r\n",
        "    'small_bert/bert_en_uncased_L-6_H-256_A-4':\r\n",
        "        'https://tfhub.dev/tensorflow/bert_en_uncased_preprocess/3',\r\n",
        "    'small_bert/bert_en_uncased_L-6_H-512_A-8':\r\n",
        "        'https://tfhub.dev/tensorflow/bert_en_uncased_preprocess/3',\r\n",
        "    'small_bert/bert_en_uncased_L-6_H-768_A-12':\r\n",
        "        'https://tfhub.dev/tensorflow/bert_en_uncased_preprocess/3',\r\n",
        "    'small_bert/bert_en_uncased_L-8_H-128_A-2':\r\n",
        "        'https://tfhub.dev/tensorflow/bert_en_uncased_preprocess/3',\r\n",
        "    'small_bert/bert_en_uncased_L-8_H-256_A-4':\r\n",
        "        'https://tfhub.dev/tensorflow/bert_en_uncased_preprocess/3',\r\n",
        "    'small_bert/bert_en_uncased_L-8_H-512_A-8':\r\n",
        "        'https://tfhub.dev/tensorflow/bert_en_uncased_preprocess/3',\r\n",
        "    'small_bert/bert_en_uncased_L-8_H-768_A-12':\r\n",
        "        'https://tfhub.dev/tensorflow/bert_en_uncased_preprocess/3',\r\n",
        "    'small_bert/bert_en_uncased_L-10_H-128_A-2':\r\n",
        "        'https://tfhub.dev/tensorflow/bert_en_uncased_preprocess/3',\r\n",
        "    'small_bert/bert_en_uncased_L-10_H-256_A-4':\r\n",
        "        'https://tfhub.dev/tensorflow/bert_en_uncased_preprocess/3',\r\n",
        "    'small_bert/bert_en_uncased_L-10_H-512_A-8':\r\n",
        "        'https://tfhub.dev/tensorflow/bert_en_uncased_preprocess/3',\r\n",
        "    'small_bert/bert_en_uncased_L-10_H-768_A-12':\r\n",
        "        'https://tfhub.dev/tensorflow/bert_en_uncased_preprocess/3',\r\n",
        "    'small_bert/bert_en_uncased_L-12_H-128_A-2':\r\n",
        "        'https://tfhub.dev/tensorflow/bert_en_uncased_preprocess/3',\r\n",
        "    'small_bert/bert_en_uncased_L-12_H-256_A-4':\r\n",
        "        'https://tfhub.dev/tensorflow/bert_en_uncased_preprocess/3',\r\n",
        "    'small_bert/bert_en_uncased_L-12_H-512_A-8':\r\n",
        "        'https://tfhub.dev/tensorflow/bert_en_uncased_preprocess/3',\r\n",
        "    'small_bert/bert_en_uncased_L-12_H-768_A-12':\r\n",
        "        'https://tfhub.dev/tensorflow/bert_en_uncased_preprocess/3',\r\n",
        "    'bert_multi_cased_L-12_H-768_A-12':\r\n",
        "        'https://tfhub.dev/tensorflow/bert_multi_cased_preprocess/3',\r\n",
        "    'albert_en_base':\r\n",
        "        'https://tfhub.dev/tensorflow/albert_en_preprocess/2',\r\n",
        "    'electra_small':\r\n",
        "        'https://tfhub.dev/tensorflow/bert_en_uncased_preprocess/3',\r\n",
        "    'electra_base':\r\n",
        "        'https://tfhub.dev/tensorflow/bert_en_uncased_preprocess/3',\r\n",
        "    'experts_pubmed':\r\n",
        "        'https://tfhub.dev/tensorflow/bert_en_uncased_preprocess/3',\r\n",
        "    'experts_wiki_books':\r\n",
        "        'https://tfhub.dev/tensorflow/bert_en_uncased_preprocess/3',\r\n",
        "    'talking-heads_base':\r\n",
        "        'https://tfhub.dev/tensorflow/bert_en_uncased_preprocess/3',\r\n",
        "    'experts/bert/wiki_books/sst2':   #use this, as its recommended to use this one for sentiment analysis\r\n",
        "        'https://tfhub.dev/tensorflow/bert_en_uncased_preprocess/3',\r\n",
        "}"
      ],
      "execution_count": null,
      "outputs": []
    },
    {
      "cell_type": "markdown",
      "metadata": {
        "id": "8xsMnyjv8Vdi"
      },
      "source": [
        "\r\n",
        "##  text preprocessing"
      ]
    },
    {
      "cell_type": "code",
      "metadata": {
        "id": "BcBfM-fpgnux",
        "colab": {
          "base_uri": "https://localhost:8080/"
        },
        "outputId": "3b5ef459-4378-4100-f6b0-53c9898fee07"
      },
      "source": [
        "stop_words = set(stopwords.words('english'))\r\n",
        "stop_words.remove('not')\r\n",
        "\r\n",
        "\r\n",
        "def text_preprocessor(text):\r\n",
        "    \r\n",
        "    # expand contractions\r\n",
        "    text = contractions.fix(' '.join(text.split(' ')))\r\n",
        "    # remove tagged accounts\r\n",
        "    text = ' '.join([token if token[0]!='@'  else '' for token in text.split()])\r\n",
        "\r\n",
        "    # remove URL\r\n",
        "    text = re.sub(r'http\\S+','',text)\r\n",
        "\r\n",
        "    text = text.replace(amp, \" and \")\r\n",
        "    words = word_re.findall(text)\r\n",
        "\r\n",
        "    # Possible alter the case, but avoid changing emoticons like :D into :d:\r\n",
        "    # if not self.preserve_case:\r\n",
        "    # also remove it if it's punctuation (not emoticon)\r\n",
        "    words = map((lambda x: x if emoticon_re.search(x) else x.lower().translate(str.maketrans('', '', string.punctuation))), words)\r\n",
        "    \r\n",
        "    \r\n",
        "\r\n",
        "    # remove stopwords\r\n",
        "    words = [word if word not in stop_words else '' for word in words]\r\n",
        "    # remove redundant spaces\r\n",
        "    text = ' '.join((' '.join(words)).split())\r\n",
        "    \r\n",
        "    text = text.replace('¡', ' ! ')\r\n",
        "\r\n",
        "    return text\r\n",
        "\r\n",
        "  \r\n",
        "# an example of bert_preprocessor\r\n",
        "print('----------------     sample of data normalizer     ------------------')\r\n",
        "\r\n",
        "tweet = 'the next school year is the year for exams can\\'t think about that­ #school #exams #hate'\r\n",
        "print('raw tweet \\n\\t{}'.format(tweet))\r\n",
        "print('text processed tweet: \\n\\t{}'.format(text_preprocessor(tweet)))\r\n",
        "\r\n",
        "tweet = '@switchfoot http://twitpic.com/2y1zl - Awww, that\\'s a bummer.  You shoulda got David Carr of Third Day to do it. ;D'\r\n",
        "print('raw tweet \\n\\t{}'.format(tweet))\r\n",
        "print('text processed tweet: \\n\\t{}'.format(text_preprocessor(tweet)))\r\n",
        "# print(text_preprocessor('i had options i\\'d get it removed i\\'ve never had acne problems'))"
      ],
      "execution_count": null,
      "outputs": [
        {
          "output_type": "stream",
          "text": [
            "----------------     sample of data normalizer     ------------------\n",
            "raw tweet \n",
            "\tthe next school year is the year for exams can't think about that­ #school #exams #hate\n",
            "text processed tweet: \n",
            "\tnext school year year exams not think ­ school exams hate\n",
            "raw tweet \n",
            "\t@switchfoot http://twitpic.com/2y1zl - Awww, that's a bummer.  You shoulda got David Carr of Third Day to do it. ;D\n",
            "text processed tweet: \n",
            "\tawww bummer shoulda got david carr third day ;D\n"
          ],
          "name": "stdout"
        }
      ]
    },
    {
      "cell_type": "markdown",
      "metadata": {
        "id": "UGWaEdY4WI_K"
      },
      "source": [
        "## Split data randomely into 2 set of train (80%) and test (20%) "
      ]
    },
    {
      "cell_type": "code",
      "metadata": {
        "colab": {
          "base_uri": "https://localhost:8080/"
        },
        "id": "lrJD6TsKTgnY",
        "outputId": "c84d8fc2-4126-4c9e-cffd-36e7fbef60ad"
      },
      "source": [
        "# use sklearn train_test_split to randomly split the entire training data into two sets: \r\n",
        "# a train set with 80% of the data and a validation set with 20% of the data\r\n",
        "\r\n",
        "def split_data(csv_data_path):\r\n",
        "  csv_data = pd.read_csv(csv_data_path, encoding =DATASET_ENCODING , names=DATASET_COLUMNS)\r\n",
        "  # [\"target\", \"ids\", \"date\", \"flag\", \"user\", \"text\"]\r\n",
        "\r\n",
        "  # for each 10 data, assing 8 of them to train, and 2 remained to test\r\n",
        "  data = {'text':[], 'label':[]}\r\n",
        "\r\n",
        "  for index in range(csv_data.shape[0]):\r\n",
        "    # as its a huge file, also preprocess the text before adding them\r\n",
        "    data['text'].append(text_preprocessor(csv_data['text'][index]))\r\n",
        "    data['label'].append(csv_data['target'][index])\r\n",
        "    \r\n",
        "    if index % 100000==0:\r\n",
        "      print('* * {:10s}:{:12d}  {:10s}  {:12d}'.format('processed',index,'over',csv_data.shape[0]))\r\n",
        "\r\n",
        "  \r\n",
        "  text_train, text_test, label_train, label_test = train_test_split(data['text'], data['label'], test_size=0.2, random_state=2020)\r\n",
        "\r\n",
        "  with open(data_path + 'train.pickle', 'wb' ) as train_file:\r\n",
        "    pickle.dump({'label':label_train, 'text': text_train}, train_file, protocol= pickle.HIGHEST_PROTOCOL)\r\n",
        "\r\n",
        "  with open(data_path + 'test.pickle', 'wb' ) as test_file:\r\n",
        "    pickle.dump({'label':label_test, 'text': text_test}, test_file, protocol= pickle.HIGHEST_PROTOCOL)\r\n",
        "\r\n",
        "split_data(data_path + csv_file_name)\r\n",
        "\r\n",
        "with open(data_path + 'train.pickle', 'rb' ) as train_file:\r\n",
        "  train = pickle.load(train_file, encoding = 'utf8')\r\n",
        "  # print(len(train['text']))\r\n",
        "  label = {0:0, 4:0}\r\n",
        "  for l in train['label']:\r\n",
        "    label[l] += 1\r\n",
        "  print(label)\r\n",
        "  # print(len(train['label']))\r\n",
        "with open(data_path + 'test.pickle', 'rb' ) as test_file:\r\n",
        "  test = pickle.load(test_file, encoding= 'utf8')\r\n",
        "  print(test['text'].__class__)\r\n",
        "  label = {0:0, 4:0}\r\n",
        "  for l in test['label']:\r\n",
        "    label[l] += 1\r\n",
        "  print(label)\r\n"
      ],
      "execution_count": null,
      "outputs": [
        {
          "output_type": "stream",
          "text": [
            "* * processed :           0  over             1600000\n",
            "* * processed :      100000  over             1600000\n",
            "* * processed :      200000  over             1600000\n",
            "* * processed :      300000  over             1600000\n",
            "* * processed :      400000  over             1600000\n",
            "* * processed :      500000  over             1600000\n",
            "* * processed :      600000  over             1600000\n",
            "* * processed :      700000  over             1600000\n",
            "* * processed :      800000  over             1600000\n",
            "* * processed :      900000  over             1600000\n",
            "* * processed :     1000000  over             1600000\n",
            "* * processed :     1100000  over             1600000\n",
            "* * processed :     1200000  over             1600000\n",
            "* * processed :     1300000  over             1600000\n",
            "* * processed :     1400000  over             1600000\n",
            "* * processed :     1500000  over             1600000\n",
            "{0: 639949, 4: 640051}\n",
            "<class 'list'>\n",
            "{0: 160051, 4: 159949}\n"
          ],
          "name": "stdout"
        }
      ]
    },
    {
      "cell_type": "markdown",
      "metadata": {
        "id": "R8ZpJ58uNHXt"
      },
      "source": [
        "* represent data"
      ]
    },
    {
      "cell_type": "code",
      "metadata": {
        "colab": {
          "base_uri": "https://localhost:8080/",
          "height": 479
        },
        "id": "RWP8Qxe2NKHu",
        "outputId": "9917f892-1476-405b-8872-918b38eda939"
      },
      "source": [
        "from matplotlib import pyplot as plt\r\n",
        "import matplotlib.colors as mcolors\r\n",
        "train_count = {'positive': 0, 'negative': 0}\r\n",
        "test_count = {'positive': 0, 'negative': 0}\r\n",
        "\r\n",
        "with open(data_path + 'train.pickle', 'rb') as train_file:\r\n",
        "  train = pickle.load(train_file)\r\n",
        "  for label in train['label']:\r\n",
        "    if label == 0:\r\n",
        "      train_count['negative'] += 1\r\n",
        "    else:\r\n",
        "      train_count['positive'] += 1\r\n",
        "    \r\n",
        "with open(data_path + 'test.pickle', 'rb') as test_file:\r\n",
        "  test = pickle.load(test_file)\r\n",
        "  for label in test['label']:\r\n",
        "    if label == 0:\r\n",
        "      test_count['negative'] += 1\r\n",
        "    else:\r\n",
        "      test_count['positive'] += 1\r\n",
        "# define pie plots input value\r\n",
        "\r\n",
        "x = np.array(list(train_count.values()))\r\n",
        "# a list of colors to be assigned to each condition\r\n",
        "my_colors = ['#029386','#c20078']\r\n",
        "\r\n",
        "fig1, ax1 = plt.subplots()\r\n",
        "# define the plot\r\n",
        "ax1.pie(x, labels=list(train_count.keys()), colors= my_colors, labeldistance= None, wedgeprops = {'edgecolor': 'black'})\r\n",
        "# define legend\r\n",
        "ax1.legend(title=\"training data set:\",bbox_to_anchor=(1.05, 1), loc='upper left')\r\n",
        "\r\n",
        "\r\n",
        "fig2, ax2 = plt.subplots()\r\n",
        "\r\n",
        "x = np.array(list(test_count.values()))\r\n",
        "# define the plot\r\n",
        "ax2.pie(x, labels=list(test_count.keys()), colors= my_colors, labeldistance= None, wedgeprops = {'edgecolor': 'black'})\r\n",
        "# define legend\r\n",
        "ax2.legend(title=\"test data set:\",bbox_to_anchor=(1.05, 1), loc='upper left')\r\n",
        "# show the plot\r\n",
        "plt.show()\r\n"
      ],
      "execution_count": null,
      "outputs": [
        {
          "output_type": "display_data",
          "data": {
            "image/png": "[encoded data removed]",
            "text/plain": [
              "<Figure size 432x288 with 1 Axes>"
            ]
          },
          "metadata": {
            "tags": []
          }
        },
        {
          "output_type": "display_data",
          "data": {
            "image/png": "[encoded data removed]",
            "text/plain": [
              "<Figure size 432x288 with 1 Axes>"
            ]
          },
          "metadata": {
            "tags": []
          }
        }
      ]
    },
    {
      "cell_type": "markdown",
      "metadata": {
        "id": "Zkc3ADgPgwBQ"
      },
      "source": [
        "## Linear Classifier:    SVM model using transformers for vectorizing"
      ]
    },
    {
      "cell_type": "markdown",
      "metadata": {
        "id": "d9Am2towO9nB"
      },
      "source": [
        "### Define Linear Classifier\r\n",
        "*   for more details on DistilBERT model used for vectorizing used sentence-transformer represented by [UKPLab](https://github.com/UKPLab/sentence-transformers)\r\n",
        "used 'stsb-distilbert-base' model as it's based on a transformer model and it's been one of the best model considering performance and speed based on the  [given results](https://docs.google.com/spreadsheets/d/14QplCdTCDwEmTqrn1LH4yrbKvdogK4oQvYO1K1aPR5M/edit#gid=0)"
      ]
    },
    {
      "cell_type": "code",
      "metadata": {
        "colab": {
          "base_uri": "https://localhost:8080/"
        },
        "id": "C6t0oxd3PR-x",
        "outputId": "bc04e709-edd8-4f8d-d75a-b744a3980e8b"
      },
      "source": [
        "class LinearClassifier:\r\n",
        "  def __init__(self, train_file_path, test_file_path, model_path= linear_model_path):\r\n",
        "    self.train_path = train_file_path\r\n",
        "    self.test_path = test_file_path\r\n",
        "    # while max len is 290, 1599514 data among 1600000 data's length is less or equal to 64\r\n",
        "    # for training its 1279705 among 1280000 training data\r\n",
        "    self.MAX_LEN = MAX_LEN\r\n",
        "    self.test_chunk_num = 10\r\n",
        "    self.train_chunk_num = 40\r\n",
        "\r\n",
        "    # path to where model has been (or going to be) saved\r\n",
        "    self.save_model_path = model_path\r\n",
        "\r\n",
        "    # path to vectorized train/test data\r\n",
        "    self.train_vectorized_file_path = documents_path + 'vectorized_train_{}.pickle'\r\n",
        "    self.test_vectorized_file_path = documents_path + 'vectorized_test_{}.pickle'\r\n",
        "\r\n",
        "  def vectorizer(self, data_dict= None, query= None, train= True):\r\n",
        "\r\n",
        "    device = torch.device(\"cuda\" if torch.cuda.is_available() else \"cpu\")\r\n",
        "    print('current available device is \"{}\" for vectorizing'.format(device))\r\n",
        "    vectorizing_model = SentenceTransformer(sentence_vectorizing_model, device=device)\r\n",
        "\r\n",
        "    if train and query == None:   # vectorizer function has been called for training data\r\n",
        "      tweets_vec = {'vec':list(), 'label': list()}\r\n",
        "      # first calculate number of tweets with length of less than MAX_LEN\r\n",
        "      tweets_count = 0 \r\n",
        "      for doc in data_dict['text']:\r\n",
        "        if len(text_preprocessor(doc).split()) <= self.MAX_LEN:\r\n",
        "          tweets_count += 1\r\n",
        "      \r\n",
        "      \r\n",
        "      # save the vectores in self.train_chunk_num chunks of pickle file as its might not be possible to \r\n",
        "      # feed all of them to model at a same time \r\n",
        "      chunk_size = int(np.floor(tweets_count/self.train_chunk_num))\r\n",
        "      chunk_index = 0\r\n",
        "\r\n",
        "      # use index to count number of tweets that have len <= 64\r\n",
        "      index = 0\r\n",
        "      for doc_id, doc in enumerate(data_dict['text']):\r\n",
        "        if len(doc.split()) <= self.MAX_LEN:\r\n",
        "\r\n",
        "          tweets_vec['vec'].append(vectorizing_model.encode([doc])[0])\r\n",
        "          tweets_vec['label'].append(data_dict['label'][doc_id])\r\n",
        "          index += 1\r\n",
        "          \r\n",
        "        # if its not last chunck and data for saving next chunk has been generated \r\n",
        "        if index % chunk_size == 0 and chunk_index != self.train_chunk_num - 1:\r\n",
        "          # save data with proper name  \r\n",
        "          with open (self.train_vectorized_file_path.format(chunk_index), 'wb') as chunk_file:\r\n",
        "            pickle.dump({'vec': np.array(tweets_vec['vec'][chunk_index * chunk_size:(chunk_index + 1) * chunk_size]), \r\n",
        "                        'label': np.array(tweets_vec['label'][chunk_index * chunk_size:(chunk_index + 1) * chunk_size])\r\n",
        "                        },chunk_file, protocol= pickle.HIGHEST_PROTOCOL)\r\n",
        "          chunk_index += 1\r\n",
        "          print('* saved train {} chunk'.format(chunk_index))\r\n",
        "\r\n",
        "        if index %10000 ==0 and index != 0:\r\n",
        "          print('* vectorizing train tweets * {:10s}:{:12d}  {:10s}  {:12d}'.format('processed',index,'over',tweets_count))\r\n",
        "        \r\n",
        "      # now save last chunks data\r\n",
        "      with open (self.train_vectorized_file_path.format(chunk_index), 'wb') as chunk_file:\r\n",
        "        pickle.dump({'vec': np.array(tweets_vec['vec'][chunk_index * chunk_size:]),\r\n",
        "                     'label': np.array(tweets_vec['label'][chunk_index * chunk_size:])\r\n",
        "                     },chunk_file, protocol= pickle.HIGHEST_PROTOCOL)\r\n",
        "      print('* saved train {} chunk'.format(chunk_index))\r\n",
        "         \r\n",
        "    elif query == None:   # vectorizer function has been called for test data\r\n",
        "      \r\n",
        "      tweets_vec = {'vec':list(), 'label': list()}\r\n",
        "\r\n",
        "      tweets_count = len(data_dict['text'])      \r\n",
        "      chunk_size = int(np.floor(tweets_count/self.test_chunk_num))\r\n",
        "      chunk_index = 0\r\n",
        "\r\n",
        "      for doc_id, doc in enumerate(data_dict['text']):\r\n",
        "        \r\n",
        "        tweets_vec['vec'].append(vectorizing_model.encode([doc])[0])\r\n",
        "        tweets_vec['label'].append(data_dict['label'][doc_id])\r\n",
        "\r\n",
        "        # if its not last chunck and data for saving next chunk has been generated \r\n",
        "        if doc_id % chunk_size == 0 and chunk_index != self.test_chunk_num - 1:\r\n",
        "          # save data with proper name  \r\n",
        "          with open (self.test_vectorized_file_path.format(chunk_index), 'wb') as chunk_file:\r\n",
        "            pickle.dump({'vec': np.array(tweets_vec['vec'][chunk_index * chunk_size:(chunk_index + 1) * chunk_size]), \r\n",
        "                        'label': np.array(tweets_vec['label'][chunk_index * chunk_size:(chunk_index + 1) * chunk_size])\r\n",
        "                        },chunk_file, protocol= pickle.HIGHEST_PROTOCOL)\r\n",
        "          chunk_index += 1\r\n",
        "          print('* saved test {} chunk'.format(chunk_index))\r\n",
        "\r\n",
        "        if doc_id %10000 ==0 and doc_id != 0:\r\n",
        "          print('* vectorizing test tweets * {:10s}:{:12d}  {:10s}  {:12d}'.format('processed',doc_id,'over',tweets_count))\r\n",
        "        \r\n",
        "      # now save last chunks data\r\n",
        "      with open (self.test_vectorized_file_path.format(chunk_index), 'wb') as chunk_file:\r\n",
        "        pickle.dump({'vec': np.array(tweets_vec['vec'][chunk_index * chunk_size:]),\r\n",
        "                     'label': np.array(tweets_vec['label'][chunk_index * chunk_size:])\r\n",
        "                     },chunk_file, protocol= pickle.HIGHEST_PROTOCOL)\r\n",
        "      print('* saved test {} chunk'.format(chunk_index))\r\n",
        "      \r\n",
        "    else: # if its called for a query  \r\n",
        "      return np.array(vectorizing_model.encode([text_preprocessor(query)]))\r\n",
        "  \r\n",
        "  def define_model(self):\r\n",
        "    return SGDClassifier(loss=\"hinge\", penalty=\"l2\")\r\n",
        "\r\n",
        "  def train(self):\r\n",
        "    \r\n",
        "    try:  # try load training data vectorized file\r\n",
        "\r\n",
        "      # to see which training has the best performans while doing croos over and save that one\r\n",
        "      max_accuracy = 0\r\n",
        "      # set 32 chunk for training and 8 chunvk for validation\r\n",
        "      cross_values = [[0, 1, 2, 3, 4, 5, 6, 7, 8, 9, 10, 11, 12, 13, 14, 15, 16, 17, 18, 19, 20, 21, 22, 23, 24, 25, 26, 27, 28, 29, 30, 31, 32, 33, 34, 35, 36, 37, 38, 39],\r\n",
        "                      [ 32, 33, 34, 35, 36, 37, 38, 39,0, 1, 2, 3, 4, 5, 6, 7, 8, 9, 10, 11, 12, 13, 14, 15, 16, 17, 18, 19, 20, 21, 22, 23, 24, 25, 26, 27, 28, 29, 30, 31],\r\n",
        "                      [24, 25, 26, 27, 28, 29, 30, 31, 32, 33, 34, 35, 36, 37, 38, 39,0, 1, 2, 3, 4, 5, 6, 7, 8, 9, 10, 11, 12, 13, 14, 15, 16, 17, 18, 19, 20, 21, 22, 23],\r\n",
        "                      [16, 17, 18, 19, 20, 21, 22, 23, 24, 25, 26, 27, 28, 29, 30, 31, 32, 33, 34, 35, 36, 37, 38, 39,0, 1, 2, 3, 4, 5, 6, 7, 8, 9, 10, 11, 12, 13, 14, 15],\r\n",
        "                      [8, 9, 10, 11, 12, 13, 14, 15, 16, 17, 18, 19, 20, 21, 22, 23, 24, 25, 26, 27, 28, 29, 30, 31, 32, 33, 34, 35, 36, 37, 38, 39,0, 1, 2, 3, 4, 5, 6, 7]\r\n",
        "                      ]\r\n",
        "      \r\n",
        "      for pattern_id, cross in enumerate(cross_values):\r\n",
        "        # define model\r\n",
        "        model = self.define_model()\r\n",
        "\r\n",
        "        print('{0:160s}'.format(('-'*50) + '  training {:4d} pattern  '.format(pattern_id + 1)+ ('-'*50)))\r\n",
        "        \r\n",
        "        for count, chunk in enumerate(cross[:len(cross) - 8]):\r\n",
        "          # for each chunk of vectorized training data\r\n",
        "          with open(self.train_vectorized_file_path.format(chunk), 'rb') as vectorized_data_file:\r\n",
        "            vectorized_chunk = pickle.load(vectorized_data_file) \r\n",
        "            # learning loap\r\n",
        "            for i in range(1000):\r\n",
        "              model.partial_fit(np.array(vectorized_chunk['vec']),np.array(vectorized_chunk['label']), classes=np.unique(np.array(vectorized_chunk['label'])))\r\n",
        "          \r\n",
        "          print('* training * {:10s}:{:12d}  {:10s}  {:12d}'.format('processed',count + 1,'over',len(cross)))\r\n",
        "\r\n",
        "        print('{0:160s}'.format(('-'*50) + '  validating {:4d} pattern  '.format(pattern_id + 1)+ ('-'*50)))\r\n",
        "        \r\n",
        "        # save model accuracy for evaluation data\r\n",
        "        accuracy_list = list()\r\n",
        "        for count, chunk in enumerate(cross[len(cross) - 8:]):\r\n",
        "          with open(self.train_vectorized_file_path.format(chunk), 'rb') as vectorized_data_file:\r\n",
        "            vectorized_chunk = pickle.load(vectorized_data_file)\r\n",
        "            accuracy_list.append(model.score(np.array(vectorized_chunk['vec']), np.array(vectorized_chunk['label'])))\r\n",
        "          print('* validating * {:10s}:{:12d}  {:10s}  {:12d}'.format('processed',count + 1,'over',len(cross)))\r\n",
        "\r\n",
        "        # calculate avg accuracy\r\n",
        "        avg_accuracy = sum(accuracy_list)/len(accuracy_list)\r\n",
        "        print('{0:160s}'.format(('-'*50) + '  avg accuracy: {:10f}  '.format(avg_accuracy)+ ('-'*50)))\r\n",
        "\r\n",
        "        # update save model\r\n",
        "        if avg_accuracy > max_accuracy:\r\n",
        "          with open(self.save_model_path, 'wb') as model_file:\r\n",
        "            pickle.dump(model, model_file, protocol = pickle.HIGHEST_PROTOCOL)\r\n",
        "          # print('-'*40, 'model updated with accuracy: {:10f}'.format(avg_accuracy), '-'*50)\r\n",
        "          print('{0:160s}'.format(('-'*50) + ' model updated with accuracy: {:10f} '.format(avg_accuracy)+ ('-'*50)))\r\n",
        "          \r\n",
        "          max_accuracy = avg_accuracy \r\n",
        "\r\n",
        "        print('\\n','*'*120,'\\n')\r\n",
        "\r\n",
        "    except IOError:   # vectorize training data as their files are not exist\r\n",
        "      print('-'*10, '\\t vectorized training data files do not exist, prepareing them might take a while\\t', '-'*10)\r\n",
        "      \r\n",
        "      # open training data\r\n",
        "      with open(self.train_path, 'rb') as train_file:\r\n",
        "        train = pickle.load(train_file)\r\n",
        "        # vectorize and store them on disk\r\n",
        "        self.vectorizer(data_dict= train)\r\n",
        "\r\n",
        "      # now that training vectores are on disk, call the training function again\r\n",
        "      self.train()\r\n",
        "\r\n",
        "  def evaluate(self): #evaluate model on test data\r\n",
        "\r\n",
        "    try:  #try to load model\r\n",
        "      with open(self.save_model_path, 'rb') as model_file:\r\n",
        "        model = pickle.load(model_file)\r\n",
        "\r\n",
        "        try:  # try to load vectorized data\r\n",
        "\r\n",
        "          # store predicted labels\r\n",
        "          y_pred = list()\r\n",
        "          # store given labels\r\n",
        "          y_true = list()\r\n",
        "\r\n",
        "          for chunk in range(self.test_chunk_num): \r\n",
        "            # first load vectorized data\r\n",
        "            with open(documents_path + 'vectorized_test_{}.pickle'.format(chunk), 'rb') as vectorized_test_file:\r\n",
        "              vector_dict = pickle.load(vectorized_test_file)\r\n",
        "              # give it's tweets as loaded classifier model predict function to\r\n",
        "              #  get predicted labels as it's output and store them properly\r\n",
        "              y_pred += list(model.predict(vector_dict['vec']))\r\n",
        "              # also store true value for labels\r\n",
        "              y_true += list(vector_dict['label'])\r\n",
        "          \r\n",
        "          # use y_pred and y_true values to evalute classifier model\r\n",
        "          report = classification_report(y_true, y_pred)\r\n",
        "          confusion_mat = confusion_matrix(y_true, y_pred)\r\n",
        "          # return evaluation metrics\r\n",
        "          return report, confusion_mat\r\n",
        "              \r\n",
        "        except: # vectorized data are not exist\r\n",
        "          print('-'*10, '\\t vectorized test data files do not exist, preparing them might take a while\\t', '-'*10)\r\n",
        "          # load test data and fed it to self.vectorizer with train= false to save\r\n",
        "          # vectorized chunk of test data to use it to evalute the classifier\r\n",
        "          with open(self.test_path, 'rb') as test_file:\r\n",
        "            test_data = pickle.load(test_file)\r\n",
        "            # vectorize an save vectores for test data \r\n",
        "            # (as they are too many to store all of them on memory)\r\n",
        "            self.vectorizer(data_dict= test_data, train= False)\r\n",
        "\r\n",
        "            # now that all test data has been vectorized and stored on the disk\r\n",
        "            # recall evaluate function to evaluate model using them\r\n",
        "            self.evaluate()\r\n",
        "   \r\n",
        "    except IOError:   # model file does notexist\r\n",
        "      print('-'*10, '\\t Classier model file does not exist, preparing it might take a while\\t', '-'*10)\r\n",
        "      self.train()\r\n",
        "      self.evaluate()    \r\n",
        "      \r\n",
        "  def query(self, query_text): # classify single sentence\r\n",
        "    # first vectorize query (it'll proprocess text in vectorize function)\r\n",
        "    query_vector = self.vectorizer(query= query_text, train= False)\r\n",
        "    # load the classifier model into memory\r\n",
        "    y_predict = 0\r\n",
        "    try:\r\n",
        "      with open(self.save_model_path, 'rb') as model_file:\r\n",
        "        model = pickle.load(model_file)\r\n",
        "        # now get model prediction for the tweets vector\r\n",
        "        y_predict = model.predict(query_vector)\r\n",
        "    except:\r\n",
        "      print('-'*10, '\\t Classier model file does not exist, preparing it might take a while\\t', '-'*10)\r\n",
        "      self.train()\r\n",
        "      with open(self.save_model_path, 'rb') as model_file:\r\n",
        "        model = pickle.load(model_file)\r\n",
        "        # now get model prediction for the tweets vector\r\n",
        "        y_predict = model.predict(query_vector)\r\n",
        "    # return the result\r\n",
        "    if y_predict == 0:\r\n",
        "      return 'negative'\r\n",
        "    else:\r\n",
        "        return 'positive'\r\n",
        "\r\n"
      ],
      "execution_count": null,
      "outputs": [
        {
          "output_type": "stream",
          "text": [
            "current available device is \"cuda\" for vectorizing\n"
          ],
          "name": "stdout"
        },
        {
          "output_type": "stream",
          "text": [
            "100%|██████████| 245M/245M [00:14<00:00, 16.3MB/s]\n"
          ],
          "name": "stderr"
        }
      ]
    },
    {
      "cell_type": "markdown",
      "metadata": {
        "id": "9WwoGa1-KUNi"
      },
      "source": [
        "### Train and Evaluate SVM model"
      ]
    },
    {
      "cell_type": "markdown",
      "metadata": {
        "id": "Ig2qAsoHPir-"
      },
      "source": [
        "* Create an object form LinearClassifier"
      ]
    },
    {
      "cell_type": "code",
      "metadata": {
        "id": "7fcYYJOyPppl"
      },
      "source": [
        "train_data_path = os.path.join(data_path, 'train.pickle')\r\n",
        "test_data_path = os.path.join(data_path, 'test.pickle')\r\n",
        "\r\n",
        "svm_model = LinearClassifier(train_data_path, test_data_path)"
      ],
      "execution_count": null,
      "outputs": []
    },
    {
      "cell_type": "markdown",
      "metadata": {
        "id": "U2xaGqrAPvr7"
      },
      "source": [
        "* Train the classifier"
      ]
    },
    {
      "cell_type": "code",
      "metadata": {
        "id": "tM3ChQuGwQ-9"
      },
      "source": [
        "svm_model.train()"
      ],
      "execution_count": null,
      "outputs": []
    },
    {
      "cell_type": "markdown",
      "metadata": {
        "id": "9vZ8k5rSP9IX"
      },
      "source": [
        "* Evaluate the classifier"
      ]
    },
    {
      "cell_type": "code",
      "metadata": {
        "id": "j_3HJPvaI4lW",
        "colab": {
          "base_uri": "https://localhost:8080/"
        },
        "outputId": "807599a0-484d-4f0f-c41c-957e1ceac26a"
      },
      "source": [
        "report, matrix = svm_model.evaluate()\r\n",
        "# print evaluations metrics\r\n",
        "print(report,'\\n', matrix)\r\n"
      ],
      "execution_count": null,
      "outputs": [
        {
          "output_type": "stream",
          "text": [
            "              precision    recall  f1-score   support\n",
            "\n",
            "           0       0.74      0.70      0.72    160051\n",
            "           4       0.72      0.76      0.74    159949\n",
            "\n",
            "    accuracy                           0.73    320000\n",
            "   macro avg       0.73      0.73      0.73    320000\n",
            "weighted avg       0.73      0.73      0.73    320000\n",
            " \n",
            " [[112393  47658]\n",
            " [ 39063 120886]]\n"
          ],
          "name": "stdout"
        }
      ]
    },
    {
      "cell_type": "markdown",
      "metadata": {
        "id": "OKvE2HpIAQOD"
      },
      "source": [
        "Give a single tweet to classifier to classify it"
      ]
    },
    {
      "cell_type": "code",
      "metadata": {
        "colab": {
          "base_uri": "https://localhost:8080/"
        },
        "id": "VRiVA6X1ARAl",
        "outputId": "77be8883-44ae-4fb8-8f5b-cff10d754844"
      },
      "source": [
        "tweet = 'safe ways to heal your #acne!! #altwaystoheal #healthy #healing!!'\r\n",
        "# result = f'input: {tweet:<30} : class: {svm_model.query(tweet))}'\r\n",
        "print('{0:<100s}{1:10s}{2:>10s}'.format(tweet,'',svm_model.query(tweet)))\r\n",
        "\r\n",
        "tweet = 'the next school year is the year for exams.ð¯ can\\'t think about that ð­ #school #exams #hate'\r\n",
        "# result = f'input: {tweet:<30} : class: {svm_model.query(tweet))}'\r\n",
        "\r\n",
        "print('{0:<100s}{1:10s}{2:>10s}'.format(tweet,'',svm_model.query(tweet)))"
      ],
      "execution_count": null,
      "outputs": [
        {
          "output_type": "stream",
          "text": [
            "safe ways to heal your #acne!! #altwaystoheal #healthy #healing!!                                               posetive\n",
            "the next school year is the year for exams.ð¯ can't think about that ð­ #school #exams #hate                negative\n"
          ],
          "name": "stdout"
        }
      ]
    },
    {
      "cell_type": "markdown",
      "metadata": {
        "id": "u96PCJjS0Nof"
      },
      "source": [
        "## Transformer:   Classify with BERT"
      ]
    },
    {
      "cell_type": "markdown",
      "metadata": {
        "id": "hIKec4WNKwLs"
      },
      "source": [
        "### Define DataSequence and BertClassifier classes"
      ]
    },
    {
      "cell_type": "markdown",
      "metadata": {
        "id": "KTtMc4EH0buS"
      },
      "source": [
        "* Define an Sequence object, use it to convert data to batches"
      ]
    },
    {
      "cell_type": "code",
      "metadata": {
        "id": "x1GtEDMBH74O"
      },
      "source": [
        "import numpy as np\r\n",
        "import math\r\n",
        "class DataSequence(tf.keras.utils.Sequence):\r\n",
        "\r\n",
        "    def __init__(self, x_set, y_set, batch_size):\r\n",
        "        self.x, self.y = x_set, y_set\r\n",
        "        self.batch_size = batch_size\r\n",
        "\r\n",
        "    def __len__(self):\r\n",
        "        return math.ceil(len(self.x) / self.batch_size)\r\n",
        "\r\n",
        "    def __getitem__(self, idx):\r\n",
        "        batch_x = self.x[idx * self.batch_size:(idx + 1) *\r\n",
        "        self.batch_size]\r\n",
        "        batch_y = self.y[idx * self.batch_size:(idx + 1) *\r\n",
        "        self.batch_size]\r\n",
        "        return (np.array(batch_x),\r\n",
        "                np.array(batch_y))\r\n",
        "  "
      ],
      "execution_count": null,
      "outputs": []
    },
    {
      "cell_type": "markdown",
      "metadata": {
        "id": "9-IvHe98CXr0"
      },
      "source": [
        "* BertClassifier class, which use one of [Bert Expert](https://tfhub.dev/google/collections/experts/bert/1)  models which is recommended for sentiment tasks ([wiki_books/sst2](https://tfhub.dev/google/experts/bert/wiki_books/sst2/2))\r\n",
        "* for crossentropy as using from_logits=True may be more numerically stable, define it in this form"
      ]
    },
    {
      "cell_type": "code",
      "metadata": {
        "id": "XFlicFLSIX3R"
      },
      "source": [
        "import math\r\n",
        "\r\n",
        "from sklearn.metrics import classification_report, confusion_matrix\r\n",
        "\r\n",
        "\r\n",
        "class BertClassifier():\r\n",
        "  def __init__(self, train_file_path, test_file_path, saved_model_path = transformer_model_path):\r\n",
        "    self.train_file_path = train_file_path\r\n",
        "    self.test_file_path = test_file_path\r\n",
        "\r\n",
        "    self.saved_model_path = saved_model_path\r\n",
        "    # assign their value based on const value defined in constants cell\r\n",
        "    self.train_size = TRAIN_SIZE\r\n",
        "    self.val_size = VAL_SIZE\r\n",
        "    self.test_size = TEST_SIZE\r\n",
        "\r\n",
        "    self.tfhub_handle_encoder = map_name_to_handle[bert_model_name]\r\n",
        "    self.tfhub_handle_preprocess = map_model_to_preprocess[bert_model_name]\r\n",
        "    \r\n",
        "    self.model = None\r\n",
        "  \r\n",
        "  def build_classifier_model(self):\r\n",
        "    # string of inputs\r\n",
        "    text_input = tf.keras.layers.Input(shape=(), dtype=tf.string, name='text')\r\n",
        "\r\n",
        "    # define chosen BERT preprocessor \r\n",
        "    preprocessing_layer = hub.KerasLayer(self.tfhub_handle_preprocess, name='preprocessing')\r\n",
        "    # get the output required for next layer by passing text_input \r\n",
        "    encoder_inputs = preprocessing_layer(text_input)\r\n",
        "    # now pass it to chosen encoder(which was recomended for sentiment analyses)\r\n",
        "    encoder = hub.KerasLayer(self.tfhub_handle_encoder, trainable=True, name='BERT_encoder')\r\n",
        "    # get the output of the BERT_encoder layer\r\n",
        "    outputs = encoder(encoder_inputs)\r\n",
        "    \r\n",
        "    net = outputs['pooled_output']\r\n",
        "    net = tf.keras.layers.Dropout(0.1)(net)\r\n",
        "    net = tf.keras.layers.Dense(1, activation=None, name='classifier')(net)\r\n",
        "    \r\n",
        "    return tf.keras.Model(text_input, net)\r\n",
        "\r\n",
        "  def train(self, batch_size= 32, epochs= 5):\r\n",
        "    with open(self.train_file_path, 'rb') as train_file:\r\n",
        "      data = pickle.load(train_file)\r\n",
        "      train_ds = DataSequence(data['text'][:self.train_size], [0 if label == 0 else 1 for label in data['label'][:self.train_size]], batch_size)\r\n",
        "      val_ds = DataSequence(data['text'][self.train_size:self.train_size + self.val_size], [0 if label == 0 else 1 for label in data['label'][self.train_size:self.train_size + self.val_size]], batch_size)\r\n",
        "\r\n",
        "      loss = tf.keras.losses.BinaryCrossentropy(from_logits=True)\r\n",
        "      metrics = tf.metrics.BinaryAccuracy()\r\n",
        "\r\n",
        "      steps_per_epoch = train_ds.__len__()\r\n",
        "      num_train_steps = steps_per_epoch * epochs\r\n",
        "      num_warmup_steps = int(0.1*num_train_steps)\r\n",
        "\r\n",
        "      init_lr = 3e-5\r\n",
        "      optimizer = optimization.create_optimizer(init_lr=init_lr,\r\n",
        "                                                num_train_steps=num_train_steps,\r\n",
        "                                                num_warmup_steps=num_warmup_steps,\r\n",
        "                                                optimizer_type='adamw')\r\n",
        "\r\n",
        "      self.model = self.build_classifier_model()\r\n",
        "\r\n",
        "      self.model.compile(optimizer= optimizer,\r\n",
        "                              loss= loss,\r\n",
        "                              metrics= metrics)\r\n",
        "\r\n",
        "      self.model.fit(x= train_ds, epochs= epochs, validation_data= val_ds)\r\n",
        "\r\n",
        "      self.model.save(self.saved_model_path, include_optimizer=False)\r\n",
        "\r\n",
        "  def evaluate(self):\r\n",
        "    try: \r\n",
        "      if self.model is None:\r\n",
        "        self.model = tf.saved_model.load(self.saved_model_path)\r\n",
        "    except IOError:\r\n",
        "      print('-'*10, '\\t Classier model files do not exist, preparing them might take a while\\t', '-'*10)\r\n",
        "      self.train()\r\n",
        "      self.model = tf.saved_model.load(self.saved_model_path)\r\n",
        "\r\n",
        "    y_true = list()\r\n",
        "    loaded_y_pred = list()\r\n",
        "    with open(self.test_file_path, 'rb') as train_file:\r\n",
        "      test = pickle.load(train_file)\r\n",
        "      y_true = test['label'][:self.test_size]\r\n",
        "\r\n",
        "      prob_list = list()\r\n",
        "      for text in test['text'][:self.test_size]:\r\n",
        "        prob_list += list(tf.sigmoid(self.model(tf.constant([text]))).numpy()[0])\r\n",
        "\r\n",
        "      y_pred = [4 if p >=0.5 else 0 for p in prob_list]\r\n",
        "\r\n",
        "    report = classification_report(np.array(y_true), np.array(y_pred))\r\n",
        "    confusion_mat = confusion_matrix(np.array(y_true), np.array(y_pred))\r\n",
        "\r\n",
        "    return report, confusion_mat\r\n",
        "\r\n",
        "  def query(self, tweet):\r\n",
        "    prob = 0.0\r\n",
        "    try: \r\n",
        "      # load model\r\n",
        "      if self.model is None:\r\n",
        "        self.model = tf.saved_model.load(self.saved_model_path)\r\n",
        "      prob= list(tf.sigmoid(self.model(tf.constant([text_preprocessor(tweet)]))).numpy()[0])[0]\r\n",
        "\r\n",
        "    except IOError:\r\n",
        "      print('-'*10, '\\t Classier model files do not exist, preparing them might take a while\\t', '-'*10)\r\n",
        "      self.train()\r\n",
        "      # load model\r\n",
        "      if self.model is None:\r\n",
        "        self.model = tf.saved_model.load(self.saved_model_path)\r\n",
        "      prob= list(tf.sigmoid(self.model(tf.constant([text_preprocessor(tweet)]))).numpy()[0])[0]\r\n",
        "\r\n",
        "    if prob < 0.5:\r\n",
        "      return 'negative\\t{:.4f}'.format(prob)\r\n",
        "    else:\r\n",
        "      return 'positive\\t{:.4f}'.format(prob)\r\n",
        "\r\n"
      ],
      "execution_count": null,
      "outputs": []
    },
    {
      "cell_type": "markdown",
      "metadata": {
        "id": "G0Ouci6eK4RJ"
      },
      "source": [
        "### Train and Evaluate BERT model"
      ]
    },
    {
      "cell_type": "markdown",
      "metadata": {
        "id": "JhgdPjalDhFI"
      },
      "source": [
        "* create an object from BertClassifier class"
      ]
    },
    {
      "cell_type": "code",
      "metadata": {
        "id": "-i_AjGgRgqEw"
      },
      "source": [
        "train = os.path.join(data_path, 'train.pickle')\r\n",
        "test = os.path.join(data_path, 'test.pickle')\r\n",
        "bert_model = BertClassifier(train, test)"
      ],
      "execution_count": null,
      "outputs": []
    },
    {
      "cell_type": "markdown",
      "metadata": {
        "id": "t2gsr69yJQ7q"
      },
      "source": [
        "* represent model layers"
      ]
    },
    {
      "cell_type": "code",
      "metadata": {
        "colab": {
          "base_uri": "https://localhost:8080/",
          "height": 466
        },
        "id": "k0qR-YvHInu8",
        "outputId": "0d0d5b8a-b553-490d-cee9-6ccb1ff83d20"
      },
      "source": [
        "tf.keras.utils.plot_model(bert_model.model)"
      ],
      "execution_count": null,
      "outputs": [
        {
          "output_type": "execute_result",
          "data": {
            "image/png": "[encoded data removed]",
            "text/plain": [
              "<IPython.core.display.Image object>"
            ]
          },
          "metadata": {
            "tags": []
          },
          "execution_count": 16
        }
      ]
    },
    {
      "cell_type": "markdown",
      "metadata": {
        "id": "bF3WilYFDmr6"
      },
      "source": [
        "* train bert_model"
      ]
    },
    {
      "cell_type": "code",
      "metadata": {
        "colab": {
          "base_uri": "https://localhost:8080/"
        },
        "id": "kpSq8wRCib-y",
        "outputId": "9b86ec61-baf2-42f3-897e-f1cff69b41fd"
      },
      "source": [
        "bert_model.train()"
      ],
      "execution_count": null,
      "outputs": [
        {
          "output_type": "stream",
          "text": [
            "Epoch 1/5\n",
            "2500/2500 [==============================] - 2493s 991ms/step - loss: 0.5538 - binary_accuracy: 0.7056 - val_loss: 0.4665 - val_binary_accuracy: 0.7704\n",
            "Epoch 2/5\n",
            "2500/2500 [==============================] - 2534s 1s/step - loss: 0.4422 - binary_accuracy: 0.7869 - val_loss: 0.5041 - val_binary_accuracy: 0.7648\n",
            "Epoch 3/5\n",
            "2500/2500 [==============================] - 2546s 1s/step - loss: 0.3700 - binary_accuracy: 0.8310 - val_loss: 0.5085 - val_binary_accuracy: 0.7753\n",
            "Epoch 4/5\n",
            "2500/2500 [==============================] - 2544s 1s/step - loss: 0.3027 - binary_accuracy: 0.8691 - val_loss: 0.5959 - val_binary_accuracy: 0.7790\n",
            "Epoch 5/5\n",
            "2500/2500 [==============================] - 2542s 1s/step - loss: 0.2497 - binary_accuracy: 0.8958 - val_loss: 0.6663 - val_binary_accuracy: 0.7749\n"
          ],
          "name": "stdout"
        },
        {
          "output_type": "stream",
          "text": [
            "WARNING:absl:Found untraced functions such as restored_function_body, restored_function_body, restored_function_body, restored_function_body, restored_function_body while saving (showing 5 of 900). These functions will not be directly callable after loading.\n",
            "WARNING:absl:Found untraced functions such as restored_function_body, restored_function_body, restored_function_body, restored_function_body, restored_function_body while saving (showing 5 of 900). These functions will not be directly callable after loading.\n"
          ],
          "name": "stderr"
        }
      ]
    },
    {
      "cell_type": "markdown",
      "metadata": {
        "id": "JTO9UajwDqPT"
      },
      "source": [
        "* evaluate model"
      ]
    },
    {
      "cell_type": "code",
      "metadata": {
        "colab": {
          "base_uri": "https://localhost:8080/"
        },
        "id": "w7poplmaaJga",
        "outputId": "d5791c40-74ca-40e7-d929-37c85599fa0f"
      },
      "source": [
        "report, matrix = bert_model.evaluate()\r\n",
        "print(report, '\\n', matrix)"
      ],
      "execution_count": null,
      "outputs": [
        {
          "output_type": "stream",
          "text": [
            "              precision    recall  f1-score   support\n",
            "\n",
            "           0       0.78      0.81      0.79     10217\n",
            "           4       0.79      0.76      0.77      9783\n",
            "\n",
            "    accuracy                           0.78     20000\n",
            "   macro avg       0.78      0.78      0.78     20000\n",
            "weighted avg       0.78      0.78      0.78     20000\n",
            " \n",
            " [[8230 1987]\n",
            " [2353 7430]]\n"
          ],
          "name": "stdout"
        }
      ]
    },
    {
      "cell_type": "markdown",
      "metadata": {
        "id": "ddu5iOCfDtXH"
      },
      "source": [
        "* get result of bert_model on query"
      ]
    },
    {
      "cell_type": "code",
      "metadata": {
        "colab": {
          "base_uri": "https://localhost:8080/"
        },
        "id": "ye6I1_9pfaOk",
        "outputId": "11cac6e2-61ab-48ae-870d-07ea72328d6f"
      },
      "source": [
        "tweet = 'safe ways to heal your #acne!! #altwaystoheal #healthy #healing!!'\r\n",
        "# result = f'input: {tweet:<30} : class: {svm_model.query(tweet))}'\r\n",
        "print('{0:<100s}{1:10s}{2:>10s}'.format(tweet,'',bert_model.query(tweet)))\r\n",
        "\r\n",
        "tweet = 'the next school year is the year for can\\'t think about that #school #exams #hate'\r\n",
        "# result = f'input: {tweet:<30} : class: {svm_model.query(tweet))}'\r\n",
        "\r\n",
        "print('{0:<100s}{1:10s}{2:>10s}'.format(tweet,'',bert_model.query(tweet)))"
      ],
      "execution_count": null,
      "outputs": [
        {
          "output_type": "stream",
          "text": [
            "safe ways to heal your #acne!! #altwaystoheal #healthy #healing!!                                             positive\t0.8998\n",
            "the next school year is the year for can't think about that #school #exams #hate                              negative\t0.1209\n"
          ],
          "name": "stdout"
        }
      ]
    },
    {
      "cell_type": "markdown",
      "metadata": {
        "id": "wfRoJWT2EMD1"
      },
      "source": [
        "# All Together"
      ]
    },
    {
      "cell_type": "markdown",
      "metadata": {
        "id": "q5GZynlBeD6z"
      },
      "source": [
        "* Define both Linear and Bert Classifier sample"
      ]
    },
    {
      "cell_type": "code",
      "metadata": {
        "id": "GAx5EaW1kqsn"
      },
      "source": [
        "train_data_path = os.path.join(data_path, 'train.pickle')\r\n",
        "test_data_path = os.path.join(data_path, 'test.pickle')\r\n",
        "\r\n",
        "linear_classifier_sample = LinearClassifier(train_data_path, test_data_path)\r\n",
        "bert_classifier_sample = BertClassifier(train_data_path, test_data_path)"
      ],
      "execution_count": null,
      "outputs": []
    },
    {
      "cell_type": "markdown",
      "metadata": {
        "id": "jaiI0J93d2qo"
      },
      "source": [
        "### See performanse on some raw tweets"
      ]
    },
    {
      "cell_type": "code",
      "metadata": {
        "colab": {
          "base_uri": "https://localhost:8080/"
        },
        "id": "IRzA3S65ERv9",
        "outputId": "22ab13c7-ea95-458a-9e4a-bea1052d29a3"
      },
      "source": [
        "sample_raw_tweets= ['The Life is cool. But not for Me. ',\r\n",
        " \"I'm missing you babe..  but as long as your alive I'm happy.. Yawwwnn.. I'm tired my love imma try to sleep hopefully you had a headstart\",\r\n",
        " 'Crazy wind today = no birding  http://ff.im/1XTTi', 'Is not going to sleep tonite. ', \r\n",
        " '@labelsnotlove   my home town. My mammy called all depressd.  Pls explain y a parent let their 8yr old child walk alone? Hello? Its 2009!',\r\n",
        "  \"@jokerrrr It stillllll hasn't arrived \",\r\n",
        " \"@a5hleyf i'm spending time with my grandma early tomorrow and i can't leave skittles by herself. \",\r\n",
        " '@ScoutBuck tons no hay Troll? ahhhh ',  \r\n",
        " '@alejandralei i dont think i can cause its my cousins birthday party ',\r\n",
        " 'have watched that considering today. yaknow. shawnna tomomorrow;i need my bestfriend ', '@shandasaurus  I see.',\r\n",
        " '@phlaimeaux where are you? ', '@thousand_miles no ',\r\n",
        " \"@hannahsix cream for his eye and he may have herpes - not ocular herpes, but a different strain.    He's doing okay though.\",\r\n",
        " \"It's going to be a long year for A's fans. \", '@AmberPacific i know i dont know why i said that ',\r\n",
        " 'Almost through with my Italian homework!  Weeeeee.... now if I only understood what I was doing.  ',\r\n",
        " \"@t_wolfe  i miss u too. i'm totally comin back tho! Lastnight was sooooooo much fun!\",\r\n",
        " 'Argh, got up early for Girls Aloud on Freshly Squeezed and it was just the video ',\r\n",
        " '@_saffron  Why not? :[', 'At mobilityvic.org launch.  No grog  nice video from PWC though',\r\n",
        " '@ourcitylight that was so sudden!! ', 'bedtime. wake up call at 7am ', \"@almostcool i'm off now \", \r\n",
        " '@ekim1406 hehehe too bad they were separated ', '@DanielCalderonL yeaah I hate that! ',\r\n",
        " \"I'm going to love this season of the hills... I can tell!  Spartans sucked.    Goodnight!!\",\r\n",
        " \"@NeYawn Yeah! Interview... Don't know even when it is... \",\r\n",
        " '@garretjiroux do u write back on twitter? i miss ya garee...  x', \"@zaibatsu ME...I'm up.  \",\r\n",
        " \"Almost finished with new moon.... If I didn't have to work tomorrow I would totally finish it tonight! Geez... \",\r\n",
        " \"@pilvlp My luck I'd probably get stopped by a cop or something stupid!  \", \r\n",
        " '@SukottoXD I saw ice in the rain today. Not quite snow, but frozen water, nonetheless. ',\r\n",
        " 'has realized that twitter is getting more attention from her mama then she is....hahaha  LAME!',\r\n",
        " 'whoa im super hungry  Life cereal w/granola &amp; raspberries is calling my name',\r\n",
        " \"Really let down by gossip girl...it's all I have to make my Mondays good and all they give are reruns... \",\r\n",
        " \"They don't get hyphy on the east coast  ...even to E40\", 'No rain please ',\r\n",
        " 'No TravoRadio this morning. BlipFM is down. ', '@PrinceDavey aww no invite??  lol jk. coolness for the day off!',\r\n",
        " \"Note to you all: don't go to the choclate bar @ schiphol!! it is passengers only \", 'on the coach  gonna be fun!'\r\n",
        " ]\r\n",
        "\r\n",
        "first = True\r\n",
        "for tweet in sample_raw_tweets:\r\n",
        "    linear_pred = linear_classifier_sample.query(tweet)\r\n",
        "    bert_pred = bert_classifier_sample.query(tweet)\r\n",
        "    if first:\r\n",
        "      print('{0:<140s}  |  {1:>10s}  |  {2:>10s}\\t'.format('raw tweets text', 'Linear pred', 'Bert pred'))\r\n",
        "      print('-' * 180)\r\n",
        "\r\n",
        "      first = False\r\n",
        "    print('{0:<140s}  |  {1:>10s}  |  {2:>10s}\\t'.format(tweet, linear_pred, bert_pred))\r\n",
        "    print('-' * 180)\r\n",
        "\r\n"
      ],
      "execution_count": null,
      "outputs": [
        {
          "output_type": "stream",
          "text": [
            "raw tweets text                                                                                                                               |  Linear pred  |   Bert pred\t\n",
            "------------------------------------------------------------------------------------------------------------------------------------------------------------------------------------\n",
            "The Life is cool. But not for Me.                                                                                                             |    negative  |  negative\t0.4184\t\n",
            "------------------------------------------------------------------------------------------------------------------------------------------------------------------------------------\n",
            "I'm missing you babe..  but as long as your alive I'm happy.. Yawwwnn.. I'm tired my love imma try to sleep hopefully you had a headstart     |    negative  |  negative\t0.4849\t\n",
            "------------------------------------------------------------------------------------------------------------------------------------------------------------------------------------\n",
            "Crazy wind today = no birding  http://ff.im/1XTTi                                                                                             |    posetive  |  negative\t0.4010\t\n",
            "------------------------------------------------------------------------------------------------------------------------------------------------------------------------------------\n",
            "Is not going to sleep tonite.                                                                                                                 |    posetive  |  negative\t0.4865\t\n",
            "------------------------------------------------------------------------------------------------------------------------------------------------------------------------------------\n",
            "@labelsnotlove   my home town. My mammy called all depressd.  Pls explain y a parent let their 8yr old child walk alone? Hello? Its 2009!     |    negative  |  negative\t0.4671\t\n",
            "------------------------------------------------------------------------------------------------------------------------------------------------------------------------------------\n",
            "@jokerrrr It stillllll hasn't arrived                                                                                                         |    negative  |  negative\t0.4849\t\n",
            "------------------------------------------------------------------------------------------------------------------------------------------------------------------------------------\n",
            "@a5hleyf i'm spending time with my grandma early tomorrow and i can't leave skittles by herself.                                              |    negative  |  negative\t0.4152\t\n",
            "------------------------------------------------------------------------------------------------------------------------------------------------------------------------------------\n",
            "@ScoutBuck tons no hay Troll? ahhhh                                                                                                           |    negative  |  negative\t0.4078\t\n",
            "------------------------------------------------------------------------------------------------------------------------------------------------------------------------------------\n",
            "@alejandralei i dont think i can cause its my cousins birthday party                                                                          |    negative  |  negative\t0.4933\t\n",
            "------------------------------------------------------------------------------------------------------------------------------------------------------------------------------------\n",
            "have watched that considering today. yaknow. shawnna tomomorrow;i need my bestfriend                                                          |    posetive  |  negative\t0.4537\t\n",
            "------------------------------------------------------------------------------------------------------------------------------------------------------------------------------------\n",
            "@shandasaurus  I see.                                                                                                                         |    posetive  |  negative\t0.4000\t\n",
            "------------------------------------------------------------------------------------------------------------------------------------------------------------------------------------\n",
            "@phlaimeaux where are you?                                                                                                                    |    posetive  |  negative\t0.4912\t\n",
            "------------------------------------------------------------------------------------------------------------------------------------------------------------------------------------\n",
            "@thousand_miles no                                                                                                                            |    posetive  |  negative\t0.4912\t\n",
            "------------------------------------------------------------------------------------------------------------------------------------------------------------------------------------\n",
            "@hannahsix cream for his eye and he may have herpes - not ocular herpes, but a different strain.    He's doing okay though.                   |    negative  |  negative\t0.4762\t\n",
            "------------------------------------------------------------------------------------------------------------------------------------------------------------------------------------\n",
            "It's going to be a long year for A's fans.                                                                                                    |    posetive  |  negative\t0.4647\t\n",
            "------------------------------------------------------------------------------------------------------------------------------------------------------------------------------------\n",
            "@AmberPacific i know i dont know why i said that                                                                                              |    negative  |  negative\t0.4616\t\n",
            "------------------------------------------------------------------------------------------------------------------------------------------------------------------------------------\n",
            "Almost through with my Italian homework!  Weeeeee.... now if I only understood what I was doing.                                              |    negative  |  negative\t0.4634\t\n",
            "------------------------------------------------------------------------------------------------------------------------------------------------------------------------------------\n",
            "@t_wolfe  i miss u too. i'm totally comin back tho! Lastnight was sooooooo much fun!                                                          |    posetive  |  negative\t0.4489\t\n",
            "------------------------------------------------------------------------------------------------------------------------------------------------------------------------------------\n",
            "Argh, got up early for Girls Aloud on Freshly Squeezed and it was just the video                                                              |    posetive  |  negative\t0.4082\t\n",
            "------------------------------------------------------------------------------------------------------------------------------------------------------------------------------------\n",
            "@_saffron  Why not? :[                                                                                                                        |    negative  |  negative\t0.4324\t\n",
            "------------------------------------------------------------------------------------------------------------------------------------------------------------------------------------\n",
            "At mobilityvic.org launch.  No grog  nice video from PWC though                                                                               |    posetive  |  negative\t0.4879\t\n",
            "------------------------------------------------------------------------------------------------------------------------------------------------------------------------------------\n",
            "@ourcitylight that was so sudden!!                                                                                                            |    negative  |  negative\t0.4211\t\n",
            "------------------------------------------------------------------------------------------------------------------------------------------------------------------------------------\n",
            "bedtime. wake up call at 7am                                                                                                                  |    posetive  |  negative\t0.4065\t\n",
            "------------------------------------------------------------------------------------------------------------------------------------------------------------------------------------\n",
            "@almostcool i'm off now                                                                                                                       |    posetive  |  negative\t0.4912\t\n",
            "------------------------------------------------------------------------------------------------------------------------------------------------------------------------------------\n",
            "@ekim1406 hehehe too bad they were separated                                                                                                  |    negative  |  negative\t0.4692\t\n",
            "------------------------------------------------------------------------------------------------------------------------------------------------------------------------------------\n",
            "@DanielCalderonL yeaah I hate that!                                                                                                           |    negative  |  negative\t0.4568\t\n",
            "------------------------------------------------------------------------------------------------------------------------------------------------------------------------------------\n",
            "I'm going to love this season of the hills... I can tell!  Spartans sucked.    Goodnight!!                                                    |    posetive  |  negative\t0.4318\t\n",
            "------------------------------------------------------------------------------------------------------------------------------------------------------------------------------------\n",
            "@NeYawn Yeah! Interview... Don't know even when it is...                                                                                      |    negative  |  negative\t0.4257\t\n",
            "------------------------------------------------------------------------------------------------------------------------------------------------------------------------------------\n",
            "@garretjiroux do u write back on twitter? i miss ya garee...  x                                                                               |    posetive  |  negative\t0.4677\t\n",
            "------------------------------------------------------------------------------------------------------------------------------------------------------------------------------------\n",
            "@zaibatsu ME...I'm up.                                                                                                                        |    posetive  |  negative\t0.4912\t\n",
            "------------------------------------------------------------------------------------------------------------------------------------------------------------------------------------\n",
            "Almost finished with new moon.... If I didn't have to work tomorrow I would totally finish it tonight! Geez...                                |    negative  |  negative\t0.4407\t\n",
            "------------------------------------------------------------------------------------------------------------------------------------------------------------------------------------\n",
            "@pilvlp My luck I'd probably get stopped by a cop or something stupid!                                                                        |    negative  |  negative\t0.4322\t\n",
            "------------------------------------------------------------------------------------------------------------------------------------------------------------------------------------\n",
            "@SukottoXD I saw ice in the rain today. Not quite snow, but frozen water, nonetheless.                                                        |    negative  |  negative\t0.4752\t\n",
            "------------------------------------------------------------------------------------------------------------------------------------------------------------------------------------\n",
            "has realized that twitter is getting more attention from her mama then she is....hahaha  LAME!                                                |    negative  |  negative\t0.4963\t\n",
            "------------------------------------------------------------------------------------------------------------------------------------------------------------------------------------\n",
            "whoa im super hungry  Life cereal w/granola &amp; raspberries is calling my name                                                              |    posetive  |  negative\t0.4702\t\n",
            "------------------------------------------------------------------------------------------------------------------------------------------------------------------------------------\n",
            "Really let down by gossip girl...it's all I have to make my Mondays good and all they give are reruns...                                      |    posetive  |  negative\t0.4240\t\n",
            "------------------------------------------------------------------------------------------------------------------------------------------------------------------------------------\n",
            "They don't get hyphy on the east coast  ...even to E40                                                                                        |    negative  |  negative\t0.4025\t\n",
            "------------------------------------------------------------------------------------------------------------------------------------------------------------------------------------\n",
            "No rain please                                                                                                                                |    negative  |  negative\t0.4430\t\n",
            "------------------------------------------------------------------------------------------------------------------------------------------------------------------------------------\n",
            "No TravoRadio this morning. BlipFM is down.                                                                                                   |    posetive  |  negative\t0.4678\t\n",
            "------------------------------------------------------------------------------------------------------------------------------------------------------------------------------------\n",
            "@PrinceDavey aww no invite??  lol jk. coolness for the day off!                                                                               |    posetive  |  negative\t0.4803\t\n",
            "------------------------------------------------------------------------------------------------------------------------------------------------------------------------------------\n",
            "Note to you all: don't go to the choclate bar @ schiphol!! it is passengers only                                                              |    posetive  |  negative\t0.4059\t\n",
            "------------------------------------------------------------------------------------------------------------------------------------------------------------------------------------\n",
            "on the coach  gonna be fun!                                                                                                                   |    posetive  |  negative\t0.4980\t\n",
            "------------------------------------------------------------------------------------------------------------------------------------------------------------------------------------\n"
          ],
          "name": "stdout"
        }
      ]
    },
    {
      "cell_type": "markdown",
      "metadata": {
        "id": "0EP-yDLfiY9X"
      },
      "source": [
        "### Get a tweet text and  get result of both classifier"
      ]
    },
    {
      "cell_type": "code",
      "metadata": {
        "colab": {
          "base_uri": "https://localhost:8080/"
        },
        "id": "Wfup1A0xiX2C",
        "outputId": "d1ab5643-0ffe-4c9f-d830-7004ed57894c"
      },
      "source": [
        "tweet = input('Enter a Tweet text\\t')\r\n",
        "linear_pred = linear_classifier_sample.query(tweet)\r\n",
        "bert_pred = bert_classifier_sample.query(tweet)\r\n",
        "print('-' * 41)\r\n",
        "print('|\\t{0:>10s}  |  {1:>10s}\\t|'.format('Bert pred', bert_pred))\r\n",
        "print('-' * 41)\r\n",
        "'it was not that bad'\r\n",
        "print('|\\t{0:>10s}  |  {1:>10s}\\t|'.format('Linear pred', linear_pred))\r\n",
        "print('-' * 41)"
      ],
      "execution_count": null,
      "outputs": [
        {
          "output_type": "stream",
          "text": [
            "Enter a Tweet text\t'it was not that bad'\n",
            "-----------------------------------------\n",
            "|\t Bert pred  |  positive\t0.9393\t|\n",
            "-----------------------------------------\n",
            "|\tLinear pred  |    negative\t|\n",
            "-----------------------------------------\n"
          ],
          "name": "stdout"
        }
      ]
    }
  ]
}